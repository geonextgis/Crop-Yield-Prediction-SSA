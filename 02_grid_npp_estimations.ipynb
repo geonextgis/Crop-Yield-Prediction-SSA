{
 "cells": [
  {
   "cell_type": "markdown",
   "metadata": {},
   "source": [
    "## **Import Required Libraries**"
   ]
  },
  {
   "cell_type": "code",
   "execution_count": 24,
   "metadata": {},
   "outputs": [
    {
     "data": {
      "text/html": [
       "\n",
       "            <style>\n",
       "                .geemap-dark {\n",
       "                    --jp-widgets-color: white;\n",
       "                    --jp-widgets-label-color: white;\n",
       "                    --jp-ui-font-color1: white;\n",
       "                    --jp-layout-color2: #454545;\n",
       "                    background-color: #383838;\n",
       "                }\n",
       "\n",
       "                .geemap-dark .jupyter-button {\n",
       "                    --jp-layout-color3: #383838;\n",
       "                }\n",
       "\n",
       "                .geemap-colab {\n",
       "                    background-color: var(--colab-primary-surface-color, white);\n",
       "                }\n",
       "\n",
       "                .geemap-colab .jupyter-button {\n",
       "                    --jp-layout-color3: var(--colab-primary-surface-color, white);\n",
       "                }\n",
       "            </style>\n",
       "            "
      ],
      "text/plain": [
       "<IPython.core.display.HTML object>"
      ]
     },
     "metadata": {},
     "output_type": "display_data"
    }
   ],
   "source": [
    "import numpy as np\n",
    "import pandas as pd\n",
    "import matplotlib.pyplot as plt\n",
    "import seaborn as sns\n",
    "import ee\n",
    "import geemap\n",
    "import geopandas as gpd\n",
    "import rasterio as rio\n",
    "from geemap import cartoee\n",
    "import cartopy.crs as ccrs\n",
    "import geedim\n",
    "\n",
    "import warnings\n",
    "warnings.filterwarnings(\"ignore\")\n",
    "\n",
    "plt.rcParams[\"font.family\"] = \"DeJavu Serif\"\n",
    "plt.rcParams['font.serif'] = \"Times New Roman\""
   ]
  },
  {
   "cell_type": "markdown",
   "metadata": {},
   "source": [
    "## **Initialize a Map Object**"
   ]
  },
  {
   "cell_type": "code",
   "execution_count": 2,
   "metadata": {},
   "outputs": [
    {
     "data": {
      "text/html": [
       "\n",
       "            <style>\n",
       "                .geemap-dark {\n",
       "                    --jp-widgets-color: white;\n",
       "                    --jp-widgets-label-color: white;\n",
       "                    --jp-ui-font-color1: white;\n",
       "                    --jp-layout-color2: #454545;\n",
       "                    background-color: #383838;\n",
       "                }\n",
       "\n",
       "                .geemap-dark .jupyter-button {\n",
       "                    --jp-layout-color3: #383838;\n",
       "                }\n",
       "\n",
       "                .geemap-colab {\n",
       "                    background-color: var(--colab-primary-surface-color, white);\n",
       "                }\n",
       "\n",
       "                .geemap-colab .jupyter-button {\n",
       "                    --jp-layout-color3: var(--colab-primary-surface-color, white);\n",
       "                }\n",
       "            </style>\n",
       "            "
      ],
      "text/plain": [
       "<IPython.core.display.HTML object>"
      ]
     },
     "metadata": {},
     "output_type": "display_data"
    }
   ],
   "source": [
    "# ee.Authenticate()"
   ]
  },
  {
   "cell_type": "code",
   "execution_count": 3,
   "metadata": {},
   "outputs": [
    {
     "data": {
      "text/html": [
       "\n",
       "            <style>\n",
       "                .geemap-dark {\n",
       "                    --jp-widgets-color: white;\n",
       "                    --jp-widgets-label-color: white;\n",
       "                    --jp-ui-font-color1: white;\n",
       "                    --jp-layout-color2: #454545;\n",
       "                    background-color: #383838;\n",
       "                }\n",
       "\n",
       "                .geemap-dark .jupyter-button {\n",
       "                    --jp-layout-color3: #383838;\n",
       "                }\n",
       "\n",
       "                .geemap-colab {\n",
       "                    background-color: var(--colab-primary-surface-color, white);\n",
       "                }\n",
       "\n",
       "                .geemap-colab .jupyter-button {\n",
       "                    --jp-layout-color3: var(--colab-primary-surface-color, white);\n",
       "                }\n",
       "            </style>\n",
       "            "
      ],
      "text/plain": [
       "<IPython.core.display.HTML object>"
      ]
     },
     "metadata": {},
     "output_type": "display_data"
    }
   ],
   "source": [
    "# ee.Initialize(project=\"krishnagopal-iit-roorkee\")"
   ]
  },
  {
   "cell_type": "code",
   "execution_count": 2,
   "metadata": {},
   "outputs": [
    {
     "data": {
      "text/html": [
       "\n",
       "            <style>\n",
       "                .geemap-dark {\n",
       "                    --jp-widgets-color: white;\n",
       "                    --jp-widgets-label-color: white;\n",
       "                    --jp-ui-font-color1: white;\n",
       "                    --jp-layout-color2: #454545;\n",
       "                    background-color: #383838;\n",
       "                }\n",
       "\n",
       "                .geemap-dark .jupyter-button {\n",
       "                    --jp-layout-color3: #383838;\n",
       "                }\n",
       "\n",
       "                .geemap-colab {\n",
       "                    background-color: var(--colab-primary-surface-color, white);\n",
       "                }\n",
       "\n",
       "                .geemap-colab .jupyter-button {\n",
       "                    --jp-layout-color3: var(--colab-primary-surface-color, white);\n",
       "                }\n",
       "            </style>\n",
       "            "
      ],
      "text/plain": [
       "<IPython.core.display.HTML object>"
      ]
     },
     "metadata": {},
     "output_type": "display_data"
    },
    {
     "data": {
      "application/vnd.jupyter.widget-view+json": {
       "model_id": "25e3cc755e2c4ee7a19f2a1aca1cd75c",
       "version_major": 2,
       "version_minor": 0
      },
      "text/plain": [
       "Map(center=[0, 0], controls=(WidgetControl(options=['position', 'transparent_bg'], widget=SearchDataGUI(childr…"
      ]
     },
     "execution_count": 2,
     "metadata": {},
     "output_type": "execute_result"
    }
   ],
   "source": [
    "Map = geemap.Map(basemap=\"Esri.WorldImagery\")\n",
    "Map"
   ]
  },
  {
   "cell_type": "markdown",
   "metadata": {},
   "source": [
    "## **Import the Region of Interest**"
   ]
  },
  {
   "cell_type": "code",
   "execution_count": 3,
   "metadata": {},
   "outputs": [
    {
     "data": {
      "text/html": [
       "\n",
       "            <style>\n",
       "                .geemap-dark {\n",
       "                    --jp-widgets-color: white;\n",
       "                    --jp-widgets-label-color: white;\n",
       "                    --jp-ui-font-color1: white;\n",
       "                    --jp-layout-color2: #454545;\n",
       "                    background-color: #383838;\n",
       "                }\n",
       "\n",
       "                .geemap-dark .jupyter-button {\n",
       "                    --jp-layout-color3: #383838;\n",
       "                }\n",
       "\n",
       "                .geemap-colab {\n",
       "                    background-color: var(--colab-primary-surface-color, white);\n",
       "                }\n",
       "\n",
       "                .geemap-colab .jupyter-button {\n",
       "                    --jp-layout-color3: var(--colab-primary-surface-color, white);\n",
       "                }\n",
       "            </style>\n",
       "            "
      ],
      "text/plain": [
       "<IPython.core.display.HTML object>"
      ]
     },
     "metadata": {},
     "output_type": "display_data"
    }
   ],
   "source": [
    "# Read the Africa country shapefile\n",
    "africa_gdf = gpd.read_file(r\"D:\\Research Works\\Agriculture\\ssa_crop_yield_forecasting\\datasets\\Africa_Country_Boundary\\afr_g2014_2013_0.shp\")\n",
    "\n",
    "# Convert the shapefile into earth engine feature collection\n",
    "africa_ee = ee.FeatureCollection(\"users/geonextgis/Africa_Country_Boundary\")\n",
    "roi_style = {\n",
    "    \"fillColor\": \"00000000\",\n",
    "    \"color\": \"black\",\n",
    "    \"width\": 0.5\n",
    "}\n",
    "Map.addLayer(africa_ee.style(**roi_style), {}, \"Africa Boundary\")\n",
    "Map.centerObject(africa_ee, 4)"
   ]
  },
  {
   "cell_type": "markdown",
   "metadata": {},
   "source": [
    "## **Read all the Required Dataset**\n",
    "1. Crop Calendar\n",
    "2. FAO Yield\n",
    "3. Crop Mask"
   ]
  },
  {
   "cell_type": "code",
   "execution_count": 4,
   "metadata": {},
   "outputs": [
    {
     "data": {
      "text/html": [
       "\n",
       "            <style>\n",
       "                .geemap-dark {\n",
       "                    --jp-widgets-color: white;\n",
       "                    --jp-widgets-label-color: white;\n",
       "                    --jp-ui-font-color1: white;\n",
       "                    --jp-layout-color2: #454545;\n",
       "                    background-color: #383838;\n",
       "                }\n",
       "\n",
       "                .geemap-dark .jupyter-button {\n",
       "                    --jp-layout-color3: #383838;\n",
       "                }\n",
       "\n",
       "                .geemap-colab {\n",
       "                    background-color: var(--colab-primary-surface-color, white);\n",
       "                }\n",
       "\n",
       "                .geemap-colab .jupyter-button {\n",
       "                    --jp-layout-color3: var(--colab-primary-surface-color, white);\n",
       "                }\n",
       "            </style>\n",
       "            "
      ],
      "text/plain": [
       "<IPython.core.display.HTML object>"
      ]
     },
     "metadata": {},
     "output_type": "display_data"
    },
    {
     "name": "stdout",
     "output_type": "stream",
     "text": [
      "(59, 7)\n"
     ]
    },
    {
     "data": {
      "text/html": [
       "<div>\n",
       "<style scoped>\n",
       "    .dataframe tbody tr th:only-of-type {\n",
       "        vertical-align: middle;\n",
       "    }\n",
       "\n",
       "    .dataframe tbody tr th {\n",
       "        vertical-align: top;\n",
       "    }\n",
       "\n",
       "    .dataframe thead th {\n",
       "        text-align: right;\n",
       "    }\n",
       "</style>\n",
       "<table border=\"1\" class=\"dataframe\">\n",
       "  <thead>\n",
       "    <tr style=\"text-align: right;\">\n",
       "      <th></th>\n",
       "      <th>country</th>\n",
       "      <th>plant</th>\n",
       "      <th>plant_start</th>\n",
       "      <th>plant_end</th>\n",
       "      <th>harvest</th>\n",
       "      <th>harvest_start</th>\n",
       "      <th>harvest_end</th>\n",
       "    </tr>\n",
       "  </thead>\n",
       "  <tbody>\n",
       "    <tr>\n",
       "      <th>0</th>\n",
       "      <td>Abyei</td>\n",
       "      <td>121.0</td>\n",
       "      <td>91</td>\n",
       "      <td>151</td>\n",
       "      <td>237.5</td>\n",
       "      <td>213</td>\n",
       "      <td>262</td>\n",
       "    </tr>\n",
       "    <tr>\n",
       "      <th>1</th>\n",
       "      <td>Algeria</td>\n",
       "      <td>88.0</td>\n",
       "      <td>56</td>\n",
       "      <td>120</td>\n",
       "      <td>285.0</td>\n",
       "      <td>233</td>\n",
       "      <td>337</td>\n",
       "    </tr>\n",
       "    <tr>\n",
       "      <th>2</th>\n",
       "      <td>Angola</td>\n",
       "      <td>281.5</td>\n",
       "      <td>244</td>\n",
       "      <td>319</td>\n",
       "      <td>90.0</td>\n",
       "      <td>60</td>\n",
       "      <td>120</td>\n",
       "    </tr>\n",
       "    <tr>\n",
       "      <th>3</th>\n",
       "      <td>Benin</td>\n",
       "      <td>90.0</td>\n",
       "      <td>60</td>\n",
       "      <td>120</td>\n",
       "      <td>243.0</td>\n",
       "      <td>213</td>\n",
       "      <td>273</td>\n",
       "    </tr>\n",
       "    <tr>\n",
       "      <th>4</th>\n",
       "      <td>Botswana</td>\n",
       "      <td>357.5</td>\n",
       "      <td>319</td>\n",
       "      <td>31</td>\n",
       "      <td>136.0</td>\n",
       "      <td>106</td>\n",
       "      <td>166</td>\n",
       "    </tr>\n",
       "  </tbody>\n",
       "</table>\n",
       "</div>"
      ],
      "text/plain": [
       "    country  plant  plant_start  plant_end  harvest  harvest_start  \\\n",
       "0     Abyei  121.0           91        151    237.5            213   \n",
       "1   Algeria   88.0           56        120    285.0            233   \n",
       "2    Angola  281.5          244        319     90.0             60   \n",
       "3     Benin   90.0           60        120    243.0            213   \n",
       "4  Botswana  357.5          319         31    136.0            106   \n",
       "\n",
       "   harvest_end  \n",
       "0          262  \n",
       "1          337  \n",
       "2          120  \n",
       "3          273  \n",
       "4          166  "
      ]
     },
     "execution_count": 4,
     "metadata": {},
     "output_type": "execute_result"
    }
   ],
   "source": [
    "# Read the crop calendar dataset\n",
    "crop_calendar_df = pd.read_excel(r\"D:\\Research Works\\Agriculture\\ssa_crop_yield_forecasting\\datasets\\processed_datasets\\crop_calendar_ssa.xlsx\", sheet_name=\"maize_major\")\n",
    "print(crop_calendar_df.shape)\n",
    "crop_calendar_df.head()"
   ]
  },
  {
   "cell_type": "code",
   "execution_count": 5,
   "metadata": {},
   "outputs": [
    {
     "data": {
      "text/html": [
       "\n",
       "            <style>\n",
       "                .geemap-dark {\n",
       "                    --jp-widgets-color: white;\n",
       "                    --jp-widgets-label-color: white;\n",
       "                    --jp-ui-font-color1: white;\n",
       "                    --jp-layout-color2: #454545;\n",
       "                    background-color: #383838;\n",
       "                }\n",
       "\n",
       "                .geemap-dark .jupyter-button {\n",
       "                    --jp-layout-color3: #383838;\n",
       "                }\n",
       "\n",
       "                .geemap-colab {\n",
       "                    background-color: var(--colab-primary-surface-color, white);\n",
       "                }\n",
       "\n",
       "                .geemap-colab .jupyter-button {\n",
       "                    --jp-layout-color3: var(--colab-primary-surface-color, white);\n",
       "                }\n",
       "            </style>\n",
       "            "
      ],
      "text/plain": [
       "<IPython.core.display.HTML object>"
      ]
     },
     "metadata": {},
     "output_type": "display_data"
    },
    {
     "name": "stdout",
     "output_type": "stream",
     "text": [
      "(3043, 5)\n"
     ]
    },
    {
     "data": {
      "text/html": [
       "<div>\n",
       "<style scoped>\n",
       "    .dataframe tbody tr th:only-of-type {\n",
       "        vertical-align: middle;\n",
       "    }\n",
       "\n",
       "    .dataframe tbody tr th {\n",
       "        vertical-align: top;\n",
       "    }\n",
       "\n",
       "    .dataframe thead th {\n",
       "        text-align: right;\n",
       "    }\n",
       "</style>\n",
       "<table border=\"1\" class=\"dataframe\">\n",
       "  <thead>\n",
       "    <tr style=\"text-align: right;\">\n",
       "      <th></th>\n",
       "      <th>Area</th>\n",
       "      <th>Element</th>\n",
       "      <th>Item</th>\n",
       "      <th>Year</th>\n",
       "      <th>Yield(tons/ha)</th>\n",
       "    </tr>\n",
       "  </thead>\n",
       "  <tbody>\n",
       "    <tr>\n",
       "      <th>0</th>\n",
       "      <td>Algeria</td>\n",
       "      <td>Yield</td>\n",
       "      <td>Maize (corn)</td>\n",
       "      <td>1961</td>\n",
       "      <td>0.9746</td>\n",
       "    </tr>\n",
       "    <tr>\n",
       "      <th>1</th>\n",
       "      <td>Algeria</td>\n",
       "      <td>Yield</td>\n",
       "      <td>Maize (corn)</td>\n",
       "      <td>1962</td>\n",
       "      <td>0.5400</td>\n",
       "    </tr>\n",
       "    <tr>\n",
       "      <th>2</th>\n",
       "      <td>Algeria</td>\n",
       "      <td>Yield</td>\n",
       "      <td>Maize (corn)</td>\n",
       "      <td>1963</td>\n",
       "      <td>1.0716</td>\n",
       "    </tr>\n",
       "    <tr>\n",
       "      <th>3</th>\n",
       "      <td>Algeria</td>\n",
       "      <td>Yield</td>\n",
       "      <td>Maize (corn)</td>\n",
       "      <td>1964</td>\n",
       "      <td>1.1703</td>\n",
       "    </tr>\n",
       "    <tr>\n",
       "      <th>4</th>\n",
       "      <td>Algeria</td>\n",
       "      <td>Yield</td>\n",
       "      <td>Maize (corn)</td>\n",
       "      <td>1965</td>\n",
       "      <td>1.1000</td>\n",
       "    </tr>\n",
       "  </tbody>\n",
       "</table>\n",
       "</div>"
      ],
      "text/plain": [
       "      Area Element          Item  Year  Yield(tons/ha)\n",
       "0  Algeria   Yield  Maize (corn)  1961          0.9746\n",
       "1  Algeria   Yield  Maize (corn)  1962          0.5400\n",
       "2  Algeria   Yield  Maize (corn)  1963          1.0716\n",
       "3  Algeria   Yield  Maize (corn)  1964          1.1703\n",
       "4  Algeria   Yield  Maize (corn)  1965          1.1000"
      ]
     },
     "execution_count": 5,
     "metadata": {},
     "output_type": "execute_result"
    }
   ],
   "source": [
    "# Read the FAO data\n",
    "fao_yield_df = pd.read_csv(r\"D:\\Research Works\\Agriculture\\ssa_crop_yield_forecasting\\datasets\\FAOSTAT_data_SSA_Maize_1961-2022.csv\")\n",
    "\n",
    "# Change the name of the few countries \n",
    "new_country_names = {\n",
    "    \"C?te d'Ivoire\": \"Côte d'Ivoire\",\n",
    "    \"Cabo Verde\": \"Cape Verde\"\n",
    "}\n",
    "\n",
    "fao_yield_df.replace(to_replace=new_country_names, inplace=True)\n",
    "print(fao_yield_df.shape)\n",
    "fao_yield_df.head()"
   ]
  },
  {
   "cell_type": "code",
   "execution_count": 6,
   "metadata": {},
   "outputs": [
    {
     "data": {
      "text/html": [
       "\n",
       "            <style>\n",
       "                .geemap-dark {\n",
       "                    --jp-widgets-color: white;\n",
       "                    --jp-widgets-label-color: white;\n",
       "                    --jp-ui-font-color1: white;\n",
       "                    --jp-layout-color2: #454545;\n",
       "                    background-color: #383838;\n",
       "                }\n",
       "\n",
       "                .geemap-dark .jupyter-button {\n",
       "                    --jp-layout-color3: #383838;\n",
       "                }\n",
       "\n",
       "                .geemap-colab {\n",
       "                    background-color: var(--colab-primary-surface-color, white);\n",
       "                }\n",
       "\n",
       "                .geemap-colab .jupyter-button {\n",
       "                    --jp-layout-color3: var(--colab-primary-surface-color, white);\n",
       "                }\n",
       "            </style>\n",
       "            "
      ],
      "text/plain": [
       "<IPython.core.display.HTML object>"
      ]
     },
     "metadata": {},
     "output_type": "display_data"
    },
    {
     "name": "stdout",
     "output_type": "stream",
     "text": [
      "Number of countries in the FAO data: 53\n"
     ]
    },
    {
     "data": {
      "image/png": "[encoded data removed]",
      "text/plain": [
       "<Figure size 640x480 with 1 Axes>"
      ]
     },
     "metadata": {},
     "output_type": "display_data"
    }
   ],
   "source": [
    "# Check the number of countries in the FAO data\n",
    "print(\"Number of countries in the FAO data:\", fao_yield_df[\"Area\"].nunique())\n",
    "\n",
    "# Store the name of the countries in a specific variable\n",
    "fao_countries = fao_yield_df[\"Area\"].unique()\n",
    "\n",
    "# Plot the countries present in the FAO yield data\n",
    "africa_gdf[africa_gdf[\"ADM0_NAME\"].isin(fao_countries)].plot(edgecolor=\"black\", linewidth=0.5)\n",
    "plt.title(\"Countries present in the FAO Yield data\");"
   ]
  },
  {
   "cell_type": "code",
   "execution_count": 7,
   "metadata": {},
   "outputs": [
    {
     "data": {
      "text/html": [
       "\n",
       "            <style>\n",
       "                .geemap-dark {\n",
       "                    --jp-widgets-color: white;\n",
       "                    --jp-widgets-label-color: white;\n",
       "                    --jp-ui-font-color1: white;\n",
       "                    --jp-layout-color2: #454545;\n",
       "                    background-color: #383838;\n",
       "                }\n",
       "\n",
       "                .geemap-dark .jupyter-button {\n",
       "                    --jp-layout-color3: #383838;\n",
       "                }\n",
       "\n",
       "                .geemap-colab {\n",
       "                    background-color: var(--colab-primary-surface-color, white);\n",
       "                }\n",
       "\n",
       "                .geemap-colab .jupyter-button {\n",
       "                    --jp-layout-color3: var(--colab-primary-surface-color, white);\n",
       "                }\n",
       "            </style>\n",
       "            "
      ],
      "text/plain": [
       "<IPython.core.display.HTML object>"
      ]
     },
     "metadata": {},
     "output_type": "display_data"
    }
   ],
   "source": [
    "# # Read the Maize Harvested Area dataset\n",
    "# maize_harv_area = ee.Image(\"projects/krishnagopal-msc-dissertation/assets/maize_HarvestedAreaHectares\")\\\n",
    "#                     .clip(africa_ee)\n",
    "\n",
    "# harv_area_vis = {\n",
    "#     \"bands\": [\"b1\"],\n",
    "#     \"min\": 0,\n",
    "#     \"max\": 2550,\n",
    "#     \"palette\": ['#d73027','#fc8d59','#fee08b','#d9ef8b','#91cf60','#1a9850']\n",
    "# }\n",
    "\n",
    "# Map.addLayer(maize_harv_area, harv_area_vis, \"Maize Harvested Area\", False)"
   ]
  },
  {
   "cell_type": "code",
   "execution_count": 8,
   "metadata": {},
   "outputs": [
    {
     "data": {
      "text/html": [
       "\n",
       "            <style>\n",
       "                .geemap-dark {\n",
       "                    --jp-widgets-color: white;\n",
       "                    --jp-widgets-label-color: white;\n",
       "                    --jp-ui-font-color1: white;\n",
       "                    --jp-layout-color2: #454545;\n",
       "                    background-color: #383838;\n",
       "                }\n",
       "\n",
       "                .geemap-dark .jupyter-button {\n",
       "                    --jp-layout-color3: #383838;\n",
       "                }\n",
       "\n",
       "                .geemap-colab {\n",
       "                    background-color: var(--colab-primary-surface-color, white);\n",
       "                }\n",
       "\n",
       "                .geemap-colab .jupyter-button {\n",
       "                    --jp-layout-color3: var(--colab-primary-surface-color, white);\n",
       "                }\n",
       "            </style>\n",
       "            "
      ],
      "text/plain": [
       "<IPython.core.display.HTML object>"
      ]
     },
     "metadata": {},
     "output_type": "display_data"
    }
   ],
   "source": [
    "# # Plot the Maize harvested area\n",
    "# fig = plt.figure(figsize=(7, 7))\n",
    "\n",
    "# region = [-19.4, -37.0, 54.2, 39.3]\n",
    "\n",
    "# ax = cartoee.get_map(maize_harv_area, \n",
    "#                      cmap=\"viridis\", \n",
    "#                      vis_params={\"min\": 0, \"max\": 2550},\n",
    "#                      region=region)\n",
    "\n",
    "# cb = cartoee.add_colorbar(ax=ax, vis_params={\"min\": 0, \"max\": 2250}, loc=\"right\", \n",
    "#                           cmap=\"viridis\", label=\"Maize Harvested Area (hectares)\")\n",
    "\n",
    "# ax.set_title(\"Average number of hectares harvested per land-area\\nof a gridcell during the 1997-2003\")\n",
    "\n",
    "# plt.show()"
   ]
  },
  {
   "cell_type": "code",
   "execution_count": 9,
   "metadata": {},
   "outputs": [
    {
     "data": {
      "text/html": [
       "\n",
       "            <style>\n",
       "                .geemap-dark {\n",
       "                    --jp-widgets-color: white;\n",
       "                    --jp-widgets-label-color: white;\n",
       "                    --jp-ui-font-color1: white;\n",
       "                    --jp-layout-color2: #454545;\n",
       "                    background-color: #383838;\n",
       "                }\n",
       "\n",
       "                .geemap-dark .jupyter-button {\n",
       "                    --jp-layout-color3: #383838;\n",
       "                }\n",
       "\n",
       "                .geemap-colab {\n",
       "                    background-color: var(--colab-primary-surface-color, white);\n",
       "                }\n",
       "\n",
       "                .geemap-colab .jupyter-button {\n",
       "                    --jp-layout-color3: var(--colab-primary-surface-color, white);\n",
       "                }\n",
       "            </style>\n",
       "            "
      ],
      "text/plain": [
       "<IPython.core.display.HTML object>"
      ]
     },
     "metadata": {},
     "output_type": "display_data"
    }
   ],
   "source": [
    "# # Prepare the Cropland mask from ESRI LULC dataset\n",
    "# # Read the ESRI LULC 10M data and filter it with ROI\n",
    "# esri_lulc_ts= ee.ImageCollection(\"projects/sat-io/open-datasets/landcover/ESRI_Global-LULC_10m_TS\")\n",
    "# esri_cropland_mask = esri_lulc_ts.filterBounds(africa_ee.geometry().bounds())\\\n",
    "#                                  .mode()\\\n",
    "#                                  .eq(5)\\\n",
    "#                                  .selfMask()\\\n",
    "#                                  .clip(africa_ee.geometry().bounds())\n",
    "\n",
    "# Read the extracted crop mask\n",
    "esri_cropland_mask = ee.Image(\"projects/krishnagopal-iit-roorkee/assets/ssa-crop-yield-forecasting/ssa_cropland_mask\")\n",
    "esri_cropland_vis = {\"min\": 0, \"max\": 1, \"palette\": [\"#FFDB5C\"]}\n",
    "Map.addLayer(esri_cropland_mask, esri_cropland_vis, \"ESRI Cropland Mask\")"
   ]
  },
  {
   "cell_type": "code",
   "execution_count": 10,
   "metadata": {},
   "outputs": [
    {
     "data": {
      "text/html": [
       "\n",
       "            <style>\n",
       "                .geemap-dark {\n",
       "                    --jp-widgets-color: white;\n",
       "                    --jp-widgets-label-color: white;\n",
       "                    --jp-ui-font-color1: white;\n",
       "                    --jp-layout-color2: #454545;\n",
       "                    background-color: #383838;\n",
       "                }\n",
       "\n",
       "                .geemap-dark .jupyter-button {\n",
       "                    --jp-layout-color3: #383838;\n",
       "                }\n",
       "\n",
       "                .geemap-colab {\n",
       "                    background-color: var(--colab-primary-surface-color, white);\n",
       "                }\n",
       "\n",
       "                .geemap-colab .jupyter-button {\n",
       "                    --jp-layout-color3: var(--colab-primary-surface-color, white);\n",
       "                }\n",
       "            </style>\n",
       "            "
      ],
      "text/plain": [
       "<IPython.core.display.HTML object>"
      ]
     },
     "metadata": {},
     "output_type": "display_data"
    }
   ],
   "source": [
    "# # Extract the crop mask\n",
    "# cropmask_export_task = ee.batch.Export.image.toAsset(image=cropland_mask,\n",
    "#                                                      assetId=\"projects/krishnagopal-iit-roorkee/assets/ssa-crop-yield-forecasting/ssa_cropland_mask\",\n",
    "#                                                      description=\"SSA_Cropland_Mask\",\n",
    "#                                                      region=africa_ee.geometry().bounds(),\n",
    "#                                                      scale=10,\n",
    "#                                                      maxPixels=1e13)\n",
    "\n",
    "# cropmask_export_task.start()"
   ]
  },
  {
   "cell_type": "markdown",
   "metadata": {},
   "source": [
    "## **Prepare Data for Each Country**"
   ]
  },
  {
   "cell_type": "code",
   "execution_count": 11,
   "metadata": {},
   "outputs": [
    {
     "data": {
      "text/html": [
       "\n",
       "            <style>\n",
       "                .geemap-dark {\n",
       "                    --jp-widgets-color: white;\n",
       "                    --jp-widgets-label-color: white;\n",
       "                    --jp-ui-font-color1: white;\n",
       "                    --jp-layout-color2: #454545;\n",
       "                    background-color: #383838;\n",
       "                }\n",
       "\n",
       "                .geemap-dark .jupyter-button {\n",
       "                    --jp-layout-color3: #383838;\n",
       "                }\n",
       "\n",
       "                .geemap-colab {\n",
       "                    background-color: var(--colab-primary-surface-color, white);\n",
       "                }\n",
       "\n",
       "                .geemap-colab .jupyter-button {\n",
       "                    --jp-layout-color3: var(--colab-primary-surface-color, white);\n",
       "                }\n",
       "            </style>\n",
       "            "
      ],
      "text/plain": [
       "<IPython.core.display.HTML object>"
      ]
     },
     "metadata": {},
     "output_type": "display_data"
    },
    {
     "name": "stdout",
     "output_type": "stream",
     "text": [
      "(746, 5)\n"
     ]
    },
    {
     "data": {
      "text/html": [
       "<div>\n",
       "<style scoped>\n",
       "    .dataframe tbody tr th:only-of-type {\n",
       "        vertical-align: middle;\n",
       "    }\n",
       "\n",
       "    .dataframe tbody tr th {\n",
       "        vertical-align: top;\n",
       "    }\n",
       "\n",
       "    .dataframe thead th {\n",
       "        text-align: right;\n",
       "    }\n",
       "</style>\n",
       "<table border=\"1\" class=\"dataframe\">\n",
       "  <thead>\n",
       "    <tr style=\"text-align: right;\">\n",
       "      <th></th>\n",
       "      <th>Area</th>\n",
       "      <th>Element</th>\n",
       "      <th>Item</th>\n",
       "      <th>Year</th>\n",
       "      <th>Yield(tons/ha)</th>\n",
       "    </tr>\n",
       "  </thead>\n",
       "  <tbody>\n",
       "    <tr>\n",
       "      <th>47</th>\n",
       "      <td>Algeria</td>\n",
       "      <td>Yield</td>\n",
       "      <td>Maize (corn)</td>\n",
       "      <td>2008</td>\n",
       "      <td>4.4714</td>\n",
       "    </tr>\n",
       "    <tr>\n",
       "      <th>48</th>\n",
       "      <td>Algeria</td>\n",
       "      <td>Yield</td>\n",
       "      <td>Maize (corn)</td>\n",
       "      <td>2009</td>\n",
       "      <td>3.0914</td>\n",
       "    </tr>\n",
       "    <tr>\n",
       "      <th>49</th>\n",
       "      <td>Algeria</td>\n",
       "      <td>Yield</td>\n",
       "      <td>Maize (corn)</td>\n",
       "      <td>2010</td>\n",
       "      <td>2.5827</td>\n",
       "    </tr>\n",
       "    <tr>\n",
       "      <th>50</th>\n",
       "      <td>Algeria</td>\n",
       "      <td>Yield</td>\n",
       "      <td>Maize (corn)</td>\n",
       "      <td>2011</td>\n",
       "      <td>2.3374</td>\n",
       "    </tr>\n",
       "    <tr>\n",
       "      <th>51</th>\n",
       "      <td>Algeria</td>\n",
       "      <td>Yield</td>\n",
       "      <td>Maize (corn)</td>\n",
       "      <td>2012</td>\n",
       "      <td>2.5583</td>\n",
       "    </tr>\n",
       "  </tbody>\n",
       "</table>\n",
       "</div>"
      ],
      "text/plain": [
       "       Area Element          Item  Year  Yield(tons/ha)\n",
       "47  Algeria   Yield  Maize (corn)  2008          4.4714\n",
       "48  Algeria   Yield  Maize (corn)  2009          3.0914\n",
       "49  Algeria   Yield  Maize (corn)  2010          2.5827\n",
       "50  Algeria   Yield  Maize (corn)  2011          2.3374\n",
       "51  Algeria   Yield  Maize (corn)  2012          2.5583"
      ]
     },
     "execution_count": 11,
     "metadata": {},
     "output_type": "execute_result"
    }
   ],
   "source": [
    "# Filter the yield dataframe from 2009-2022\n",
    "fao_yield_df = fao_yield_df[(fao_yield_df[\"Year\"]>=2008) & (fao_yield_df[\"Year\"]<=2022)]\n",
    "print(fao_yield_df.shape)\n",
    "fao_yield_df.head()"
   ]
  },
  {
   "cell_type": "code",
   "execution_count": 13,
   "metadata": {},
   "outputs": [
    {
     "data": {
      "text/html": [
       "\n",
       "            <style>\n",
       "                .geemap-dark {\n",
       "                    --jp-widgets-color: white;\n",
       "                    --jp-widgets-label-color: white;\n",
       "                    --jp-ui-font-color1: white;\n",
       "                    --jp-layout-color2: #454545;\n",
       "                    background-color: #383838;\n",
       "                }\n",
       "\n",
       "                .geemap-dark .jupyter-button {\n",
       "                    --jp-layout-color3: #383838;\n",
       "                }\n",
       "\n",
       "                .geemap-colab {\n",
       "                    background-color: var(--colab-primary-surface-color, white);\n",
       "                }\n",
       "\n",
       "                .geemap-colab .jupyter-button {\n",
       "                    --jp-layout-color3: var(--colab-primary-surface-color, white);\n",
       "                }\n",
       "            </style>\n",
       "            "
      ],
      "text/plain": [
       "<IPython.core.display.HTML object>"
      ]
     },
     "metadata": {},
     "output_type": "display_data"
    }
   ],
   "source": [
    "# Read the Terra Net Primary Production Global dataset\n",
    "npp = ee.ImageCollection(\"FAO/WAPOR/2/L1_NPP_D\")\\\n",
    "        .select(\"L1_NPP_D\")\\\n",
    "\n",
    "# Write a function to map the time component in the NPP image collection\n",
    "def assign_time_comp(image):\n",
    "\n",
    "    time_index = ee.String(image.get(\"system:index\")).slice(-4,)\n",
    "    year = ee.Number(ee.String(\"20\").cat(time_index.slice(0, 2)))\n",
    "    dakad_id = ee.Number.parse(time_index.slice(2, ))\n",
    "\n",
    "    end_day = ee.Number(dakad_id).multiply(ee.Number(10))\n",
    "    start_day = ee.Number(end_day).subtract(ee.Number(10))\n",
    "\n",
    "    # Define the start date and end date\n",
    "    initial_date = ee.Date(year)\n",
    "    start_day_date = initial_date.advance(start_day, \"day\")\n",
    "    end_day_date = initial_date.advance(end_day, \"day\")\n",
    "\n",
    "    return image.set({\n",
    "        \"start_date\": start_day_date,\n",
    "        \"end_date\": end_day_date,\n",
    "        \"system:time_start\": start_day_date.millis(),\n",
    "        \"system:time_end\": end_day_date.millis()\n",
    "    })\n",
    "\n",
    "# Apply the function over the image collection\n",
    "npp_mapped = npp.map(assign_time_comp)"
   ]
  },
  {
   "cell_type": "code",
   "execution_count": 14,
   "metadata": {},
   "outputs": [
    {
     "data": {
      "text/html": [
       "\n",
       "            <style>\n",
       "                .geemap-dark {\n",
       "                    --jp-widgets-color: white;\n",
       "                    --jp-widgets-label-color: white;\n",
       "                    --jp-ui-font-color1: white;\n",
       "                    --jp-layout-color2: #454545;\n",
       "                    background-color: #383838;\n",
       "                }\n",
       "\n",
       "                .geemap-dark .jupyter-button {\n",
       "                    --jp-layout-color3: #383838;\n",
       "                }\n",
       "\n",
       "                .geemap-colab {\n",
       "                    background-color: var(--colab-primary-surface-color, white);\n",
       "                }\n",
       "\n",
       "                .geemap-colab .jupyter-button {\n",
       "                    --jp-layout-color3: var(--colab-primary-surface-color, white);\n",
       "                }\n",
       "            </style>\n",
       "            "
      ],
      "text/plain": [
       "<IPython.core.display.HTML object>"
      ]
     },
     "metadata": {},
     "output_type": "display_data"
    }
   ],
   "source": [
    "# Define the years to be taken\n",
    "years = np.arange(2009, 2023)"
   ]
  },
  {
   "cell_type": "markdown",
   "metadata": {},
   "source": [
    "#### Main Algorithm"
   ]
  },
  {
   "cell_type": "code",
   "execution_count": 15,
   "metadata": {},
   "outputs": [
    {
     "data": {
      "text/html": [
       "\n",
       "            <style>\n",
       "                .geemap-dark {\n",
       "                    --jp-widgets-color: white;\n",
       "                    --jp-widgets-label-color: white;\n",
       "                    --jp-ui-font-color1: white;\n",
       "                    --jp-layout-color2: #454545;\n",
       "                    background-color: #383838;\n",
       "                }\n",
       "\n",
       "                .geemap-dark .jupyter-button {\n",
       "                    --jp-layout-color3: #383838;\n",
       "                }\n",
       "\n",
       "                .geemap-colab {\n",
       "                    background-color: var(--colab-primary-surface-color, white);\n",
       "                }\n",
       "\n",
       "                .geemap-colab .jupyter-button {\n",
       "                    --jp-layout-color3: var(--colab-primary-surface-color, white);\n",
       "                }\n",
       "            </style>\n",
       "            "
      ],
      "text/plain": [
       "<IPython.core.display.HTML object>"
      ]
     },
     "metadata": {},
     "output_type": "display_data"
    }
   ],
   "source": [
    "# Select a country\n",
    "country = \"South Africa\"\n",
    "country_geom = africa_ee.filter(ee.Filter.eq(\"ADM0_NAME\", country)).first()\\\n",
    "                        .geometry()\n",
    "\n",
    "year = 2010\n",
    "plant_start = crop_calendar_df[crop_calendar_df[\"country\"]==country][\"plant_start\"].values[0]\n",
    "harvest_end = crop_calendar_df[crop_calendar_df[\"country\"]==country][\"harvest_end\"].values[0]\n",
    "\n",
    "# Extract the duration\n",
    "if plant_start > harvest_end:\n",
    "    duration = (365 - plant_start) + harvest_end\n",
    "else:\n",
    "    duration = harvest_end - plant_start\n",
    "\n",
    "# Define the start and end date\n",
    "initial_date = ee.Date(str(year))\n",
    "start_date = initial_date.advance(int(plant_start), \"day\")\n",
    "end_date = start_date.advance(int(duration), \"day\")"
   ]
  },
  {
   "cell_type": "code",
   "execution_count": 16,
   "metadata": {},
   "outputs": [
    {
     "data": {
      "text/html": [
       "\n",
       "            <style>\n",
       "                .geemap-dark {\n",
       "                    --jp-widgets-color: white;\n",
       "                    --jp-widgets-label-color: white;\n",
       "                    --jp-ui-font-color1: white;\n",
       "                    --jp-layout-color2: #454545;\n",
       "                    background-color: #383838;\n",
       "                }\n",
       "\n",
       "                .geemap-dark .jupyter-button {\n",
       "                    --jp-layout-color3: #383838;\n",
       "                }\n",
       "\n",
       "                .geemap-colab {\n",
       "                    background-color: var(--colab-primary-surface-color, white);\n",
       "                }\n",
       "\n",
       "                .geemap-colab .jupyter-button {\n",
       "                    --jp-layout-color3: var(--colab-primary-surface-color, white);\n",
       "                }\n",
       "            </style>\n",
       "            "
      ],
      "text/plain": [
       "<IPython.core.display.HTML object>"
      ]
     },
     "metadata": {},
     "output_type": "display_data"
    }
   ],
   "source": [
    "# Filter out the NPP data for the growing days\n",
    "npp_filtered = npp_mapped.filterDate(start_date, end_date)\n",
    "\n",
    "# Calculate average NPP per pixel during the growing period\n",
    "npp_average_per_pixel = npp_filtered.mean()\\\n",
    "                                    .toInt()\\\n",
    "                                    .rename(\"average_npp\")\\\n",
    "                                    .clip(country_geom)\\\n",
    "                                    .updateMask(esri_cropland_mask)\n",
    "                  \n",
    "npp_vis_params = {\n",
    "    \"min\": 665,\n",
    "    \"max\": 4155,\n",
    "    \"palette\": ['#ffffcc','#d9f0a3','#addd8e','#78c679','#31a354','#006837']\n",
    "}\n",
    "Map.addLayer(npp_average_per_pixel, npp_vis_params, \"NPP Average per Pixel\")"
   ]
  },
  {
   "cell_type": "code",
   "execution_count": 61,
   "metadata": {},
   "outputs": [
    {
     "data": {
      "text/html": [
       "\n",
       "            <style>\n",
       "                .geemap-dark {\n",
       "                    --jp-widgets-color: white;\n",
       "                    --jp-widgets-label-color: white;\n",
       "                    --jp-ui-font-color1: white;\n",
       "                    --jp-layout-color2: #454545;\n",
       "                    background-color: #383838;\n",
       "                }\n",
       "\n",
       "                .geemap-dark .jupyter-button {\n",
       "                    --jp-layout-color3: #383838;\n",
       "                }\n",
       "\n",
       "                .geemap-colab {\n",
       "                    background-color: var(--colab-primary-surface-color, white);\n",
       "                }\n",
       "\n",
       "                .geemap-colab .jupyter-button {\n",
       "                    --jp-layout-color3: var(--colab-primary-surface-color, white);\n",
       "                }\n",
       "            </style>\n",
       "            "
      ],
      "text/plain": [
       "<IPython.core.display.HTML object>"
      ]
     },
     "metadata": {},
     "output_type": "display_data"
    },
    {
     "name": "stdout",
     "output_type": "stream",
     "text": [
      "Total Country NPP: 2046\n"
     ]
    }
   ],
   "source": [
    "# Calculate the mean country NPP \n",
    "country_npp_mean = npp_average_per_pixel.reduceRegion(\n",
    "    reducer=ee.Reducer.mean(),\n",
    "    geometry=country_geom.bounds(),\n",
    "    scale=250, \n",
    "    maxPixels=1e16,\n",
    "    bestEffort=True)\n",
    "\n",
    "# Print the \n",
    "country_npp_mean = int(country_npp_mean.getInfo()[\"average_npp\"])\n",
    "print(\"Average Country NPP:\", country_npp_mean)"
   ]
  },
  {
   "cell_type": "code",
   "execution_count": 62,
   "metadata": {},
   "outputs": [
    {
     "data": {
      "text/html": [
       "\n",
       "            <style>\n",
       "                .geemap-dark {\n",
       "                    --jp-widgets-color: white;\n",
       "                    --jp-widgets-label-color: white;\n",
       "                    --jp-ui-font-color1: white;\n",
       "                    --jp-layout-color2: #454545;\n",
       "                    background-color: #383838;\n",
       "                }\n",
       "\n",
       "                .geemap-dark .jupyter-button {\n",
       "                    --jp-layout-color3: #383838;\n",
       "                }\n",
       "\n",
       "                .geemap-colab {\n",
       "                    background-color: var(--colab-primary-surface-color, white);\n",
       "                }\n",
       "\n",
       "                .geemap-colab .jupyter-button {\n",
       "                    --jp-layout-color3: var(--colab-primary-surface-color, white);\n",
       "                }\n",
       "            </style>\n",
       "            "
      ],
      "text/plain": [
       "<IPython.core.display.HTML object>"
      ]
     },
     "metadata": {},
     "output_type": "display_data"
    }
   ],
   "source": [
    "# Calculate the Ratio per pixel\n",
    "npp_ratio_per_pixel = npp_average_per_pixel.divide(country_npp_mean)\\\n",
    "                                           .toFloat()\\\n",
    "                                           .rename(\"ratio_npp\")\n",
    "npp_ratio_vis_params = {\n",
    "    \"min\": 0,\n",
    "    \"max\": 2,\n",
    "    \"palette\": ['#ffffb2','#fed976','#feb24c','#fd8d3c','#f03b20','#bd0026']\n",
    "}\n",
    "Map.addLayer(npp_ratio_per_pixel, npp_ratio_vis_params, \"NPP Ratio per Pixel\")"
   ]
  },
  {
   "cell_type": "code",
   "execution_count": 66,
   "metadata": {},
   "outputs": [
    {
     "data": {
      "text/html": [
       "\n",
       "            <style>\n",
       "                .geemap-dark {\n",
       "                    --jp-widgets-color: white;\n",
       "                    --jp-widgets-label-color: white;\n",
       "                    --jp-ui-font-color1: white;\n",
       "                    --jp-layout-color2: #454545;\n",
       "                    background-color: #383838;\n",
       "                }\n",
       "\n",
       "                .geemap-dark .jupyter-button {\n",
       "                    --jp-layout-color3: #383838;\n",
       "                }\n",
       "\n",
       "                .geemap-colab {\n",
       "                    background-color: var(--colab-primary-surface-color, white);\n",
       "                }\n",
       "\n",
       "                .geemap-colab .jupyter-button {\n",
       "                    --jp-layout-color3: var(--colab-primary-surface-color, white);\n",
       "                }\n",
       "            </style>\n",
       "            "
      ],
      "text/plain": [
       "<IPython.core.display.HTML object>"
      ]
     },
     "metadata": {},
     "output_type": "display_data"
    },
    {
     "data": {
      "text/plain": [
       "4.6736"
      ]
     },
     "execution_count": 66,
     "metadata": {},
     "output_type": "execute_result"
    }
   ],
   "source": [
    "# Distribute the FAO yield over the pixel\n",
    "fao_yield_value = fao_yield_df[(fao_yield_df[\"Area\"]==country) & (fao_yield_df[\"Year\"]==year)][\"Yield(tons/ha)\"].values[0]\n",
    "\n",
    "npp_yield_per_pixel = npp_ratio_per_pixel.multiply(country_npp_mean)\n",
    "npp_ratio_vis_params = {\n",
    "    \"min\": 0,\n",
    "    \"max\": 4.5,\n",
    "    \"palette\": ['#ffffb2','#fed976','#feb24c','#fd8d3c','#f03b20','#bd0026']\n",
    "}\n",
    "Map.addLayer(npp_ratio_per_pixel, npp_ratio_vis_params, \"NPP Ratio per Pixel\")"
   ]
  }
 ],
 "metadata": {
  "kernelspec": {
   "display_name": "py310",
   "language": "python",
   "name": "python3"
  },
  "language_info": {
   "codemirror_mode": {
    "name": "ipython",
    "version": 3
   },
   "file_extension": ".py",
   "mimetype": "text/x-python",
   "name": "python",
   "nbconvert_exporter": "python",
   "pygments_lexer": "ipython3",
   "version": "3.10.14"
  }
 },
 "nbformat": 4,
 "nbformat_minor": 2
}
